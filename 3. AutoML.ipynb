{
 "cells": [
  {
   "cell_type": "code",
   "execution_count": 1,
   "metadata": {
    "ExecuteTime": {
     "end_time": "2020-07-06T11:47:32.027489Z",
     "start_time": "2020-07-06T11:47:28.952293Z"
    }
   },
   "outputs": [
    {
     "name": "stdout",
     "output_type": "stream",
     "text": [
      "Checking whether there is an H2O instance running at http://localhost:54321 ..... not found.\n",
      "Attempting to start a local H2O server...\n",
      "  Java Version: openjdk version \"1.8.0_252\"; OpenJDK Runtime Environment (build 1.8.0_252-b09); OpenJDK 64-Bit Server VM (build 25.252-b09, mixed mode)\n",
      "  Starting server from /usr/lib/python3.8/site-packages/h2o/backend/bin/h2o.jar\n",
      "  Ice root: /tmp/tmpcv48_5a6\n",
      "  JVM stdout: /tmp/tmpcv48_5a6/h2o_javi_started_from_python.out\n",
      "  JVM stderr: /tmp/tmpcv48_5a6/h2o_javi_started_from_python.err\n",
      "  Server is running at http://127.0.0.1:54321\n",
      "Connecting to H2O server at http://127.0.0.1:54321 ... successful.\n"
     ]
    },
    {
     "data": {
      "text/html": [
       "<div style=\"overflow:auto\"><table style=\"width:50%\"><tr><td>H2O_cluster_uptime:</td>\n",
       "<td>01 secs</td></tr>\n",
       "<tr><td>H2O_cluster_timezone:</td>\n",
       "<td>Europe/Madrid</td></tr>\n",
       "<tr><td>H2O_data_parsing_timezone:</td>\n",
       "<td>UTC</td></tr>\n",
       "<tr><td>H2O_cluster_version:</td>\n",
       "<td>3.30.0.6</td></tr>\n",
       "<tr><td>H2O_cluster_version_age:</td>\n",
       "<td>5 days </td></tr>\n",
       "<tr><td>H2O_cluster_name:</td>\n",
       "<td>H2O_from_python_javi_6hedbn</td></tr>\n",
       "<tr><td>H2O_cluster_total_nodes:</td>\n",
       "<td>1</td></tr>\n",
       "<tr><td>H2O_cluster_free_memory:</td>\n",
       "<td>3.467 Gb</td></tr>\n",
       "<tr><td>H2O_cluster_total_cores:</td>\n",
       "<td>4</td></tr>\n",
       "<tr><td>H2O_cluster_allowed_cores:</td>\n",
       "<td>4</td></tr>\n",
       "<tr><td>H2O_cluster_status:</td>\n",
       "<td>accepting new members, healthy</td></tr>\n",
       "<tr><td>H2O_connection_url:</td>\n",
       "<td>http://127.0.0.1:54321</td></tr>\n",
       "<tr><td>H2O_connection_proxy:</td>\n",
       "<td>{\"http\": null, \"https\": null}</td></tr>\n",
       "<tr><td>H2O_internal_security:</td>\n",
       "<td>False</td></tr>\n",
       "<tr><td>H2O_API_Extensions:</td>\n",
       "<td>Amazon S3, XGBoost, Algos, AutoML, Core V3, TargetEncoder, Core V4</td></tr>\n",
       "<tr><td>Python_version:</td>\n",
       "<td>3.8.3 final</td></tr></table></div>"
      ],
      "text/plain": [
       "--------------------------  ------------------------------------------------------------------\n",
       "H2O_cluster_uptime:         01 secs\n",
       "H2O_cluster_timezone:       Europe/Madrid\n",
       "H2O_data_parsing_timezone:  UTC\n",
       "H2O_cluster_version:        3.30.0.6\n",
       "H2O_cluster_version_age:    5 days\n",
       "H2O_cluster_name:           H2O_from_python_javi_6hedbn\n",
       "H2O_cluster_total_nodes:    1\n",
       "H2O_cluster_free_memory:    3.467 Gb\n",
       "H2O_cluster_total_cores:    4\n",
       "H2O_cluster_allowed_cores:  4\n",
       "H2O_cluster_status:         accepting new members, healthy\n",
       "H2O_connection_url:         http://127.0.0.1:54321\n",
       "H2O_connection_proxy:       {\"http\": null, \"https\": null}\n",
       "H2O_internal_security:      False\n",
       "H2O_API_Extensions:         Amazon S3, XGBoost, Algos, AutoML, Core V3, TargetEncoder, Core V4\n",
       "Python_version:             3.8.3 final\n",
       "--------------------------  ------------------------------------------------------------------"
      ]
     },
     "metadata": {},
     "output_type": "display_data"
    }
   ],
   "source": [
    "import pandas as pd\n",
    "import h2o\n",
    "from h2o.automl import H2OAutoML\n",
    "\n",
    "h2o.init()"
   ]
  },
  {
   "cell_type": "markdown",
   "metadata": {},
   "source": [
    "# Read data"
   ]
  },
  {
   "cell_type": "code",
   "execution_count": 2,
   "metadata": {
    "ExecuteTime": {
     "end_time": "2020-07-06T11:47:34.502246Z",
     "start_time": "2020-07-06T11:47:32.035986Z"
    }
   },
   "outputs": [
    {
     "name": "stdout",
     "output_type": "stream",
     "text": [
      "Parse progress: |█████████████████████████████████████████████████████████| 100%\n",
      "Parse progress: |█████████████████████████████████████████████████████████| 100%\n",
      "Parse progress: |█████████████████████████████████████████████████████████| 100%\n",
      "Parse progress: |█████████████████████████████████████████████████████████| 100%\n"
     ]
    }
   ],
   "source": [
    "df_lex_simp = h2o.import_file(\"data/lexis.csv\")\n",
    "df_lex_comp = h2o.import_file(\"data/lexis_comp.csv\")\n",
    "df_syn_simp = h2o.import_file(\"data/syntax.csv\")\n",
    "df_syn_comp = h2o.import_file(\"data/syntax_comp.csv\")"
   ]
  },
  {
   "cell_type": "markdown",
   "metadata": {},
   "source": [
    "# Lexis"
   ]
  },
  {
   "cell_type": "code",
   "execution_count": 5,
   "metadata": {
    "ExecuteTime": {
     "end_time": "2020-07-06T11:48:02.965445Z",
     "start_time": "2020-07-06T11:48:02.958842Z"
    }
   },
   "outputs": [],
   "source": [
    "x = df_lex_simp.columns\n",
    "y = \"idioma\"\n",
    "x.remove(y)"
   ]
  },
  {
   "cell_type": "markdown",
   "metadata": {},
   "source": [
    "# Run AutoML for 20 base models (limited to 1 hour max runtime by default)"
   ]
  },
  {
   "cell_type": "code",
   "execution_count": 6,
   "metadata": {
    "ExecuteTime": {
     "end_time": "2020-07-06T11:50:05.885810Z",
     "start_time": "2020-07-06T11:48:10.265944Z"
    }
   },
   "outputs": [
    {
     "name": "stdout",
     "output_type": "stream",
     "text": [
      "AutoML progress: |████████████████████████████████████████████████████████| 100%\n"
     ]
    }
   ],
   "source": [
    "aml = H2OAutoML(max_runtime_secs=60, seed=1)\n",
    "aml.train(x=x, y=y, training_frame=df_lex_simp)"
   ]
  },
  {
   "cell_type": "markdown",
   "metadata": {},
   "source": [
    "# View the AutoML Leaderboard"
   ]
  },
  {
   "cell_type": "code",
   "execution_count": 8,
   "metadata": {
    "ExecuteTime": {
     "end_time": "2020-07-06T11:52:55.009430Z",
     "start_time": "2020-07-06T11:52:55.004372Z"
    }
   },
   "outputs": [
    {
     "data": {
      "text/plain": [
       "0.72563"
      ]
     },
     "execution_count": 8,
     "metadata": {},
     "output_type": "execute_result"
    }
   ],
   "source": [
    "1-0.27437"
   ]
  },
  {
   "cell_type": "code",
   "execution_count": 7,
   "metadata": {
    "ExecuteTime": {
     "end_time": "2020-07-06T11:50:05.927018Z",
     "start_time": "2020-07-06T11:50:05.917569Z"
    }
   },
   "outputs": [
    {
     "data": {
      "text/html": [
       "<table>\n",
       "<thead>\n",
       "<tr><th>model_id                                           </th><th style=\"text-align: right;\">  mean_per_class_error</th><th style=\"text-align: right;\">  logloss</th><th style=\"text-align: right;\">    rmse</th><th style=\"text-align: right;\">     mse</th></tr>\n",
       "</thead>\n",
       "<tbody>\n",
       "<tr><td>StackedEnsemble_BestOfFamily_AutoML_20200706_134810</td><td style=\"text-align: right;\">              0.246105</td><td style=\"text-align: right;\"> 0.842986</td><td style=\"text-align: right;\">0.495173</td><td style=\"text-align: right;\">0.245196</td></tr>\n",
       "<tr><td>StackedEnsemble_AllModels_AutoML_20200706_134810   </td><td style=\"text-align: right;\">              0.248017</td><td style=\"text-align: right;\"> 1.22268 </td><td style=\"text-align: right;\">0.665893</td><td style=\"text-align: right;\">0.443414</td></tr>\n",
       "<tr><td>XGBoost_grid__1_AutoML_20200706_134810_model_1     </td><td style=\"text-align: right;\">              0.27437 </td><td style=\"text-align: right;\"> 0.843031</td><td style=\"text-align: right;\">0.520121</td><td style=\"text-align: right;\">0.270526</td></tr>\n",
       "<tr><td>GBM_grid__1_AutoML_20200706_134810_model_1         </td><td style=\"text-align: right;\">              0.402614</td><td style=\"text-align: right;\"> 1.47137 </td><td style=\"text-align: right;\">0.722401</td><td style=\"text-align: right;\">0.521863</td></tr>\n",
       "<tr><td>XGBoost_3_AutoML_20200706_134810                   </td><td style=\"text-align: right;\">              0.410899</td><td style=\"text-align: right;\"> 1.64249 </td><td style=\"text-align: right;\">0.770249</td><td style=\"text-align: right;\">0.593284</td></tr>\n",
       "<tr><td>XGBoost_2_AutoML_20200706_134810                   </td><td style=\"text-align: right;\">              0.43595 </td><td style=\"text-align: right;\"> 1.62627 </td><td style=\"text-align: right;\">0.769027</td><td style=\"text-align: right;\">0.591403</td></tr>\n",
       "<tr><td>DeepLearning_grid__1_AutoML_20200706_134810_model_1</td><td style=\"text-align: right;\">              0.502018</td><td style=\"text-align: right;\"> 2.69382 </td><td style=\"text-align: right;\">0.677155</td><td style=\"text-align: right;\">0.458538</td></tr>\n",
       "<tr><td>GBM_3_AutoML_20200706_134810                       </td><td style=\"text-align: right;\">              0.506389</td><td style=\"text-align: right;\"> 2.02335 </td><td style=\"text-align: right;\">0.852485</td><td style=\"text-align: right;\">0.726731</td></tr>\n",
       "<tr><td>GBM_2_AutoML_20200706_134810                       </td><td style=\"text-align: right;\">              0.51528 </td><td style=\"text-align: right;\"> 2.07684 </td><td style=\"text-align: right;\">0.862394</td><td style=\"text-align: right;\">0.743723</td></tr>\n",
       "<tr><td>GBM_4_AutoML_20200706_134810                       </td><td style=\"text-align: right;\">              0.528996</td><td style=\"text-align: right;\"> 2.09503 </td><td style=\"text-align: right;\">0.865954</td><td style=\"text-align: right;\">0.749877</td></tr>\n",
       "<tr><td>XGBoost_1_AutoML_20200706_134810                   </td><td style=\"text-align: right;\">              0.539493</td><td style=\"text-align: right;\"> 1.98354 </td><td style=\"text-align: right;\">0.844205</td><td style=\"text-align: right;\">0.712682</td></tr>\n",
       "<tr><td>GBM_5_AutoML_20200706_134810                       </td><td style=\"text-align: right;\">              0.543514</td><td style=\"text-align: right;\"> 2.18067 </td><td style=\"text-align: right;\">0.881021</td><td style=\"text-align: right;\">0.776198</td></tr>\n",
       "<tr><td>GBM_1_AutoML_20200706_134810                       </td><td style=\"text-align: right;\">              0.570226</td><td style=\"text-align: right;\"> 2.12387 </td><td style=\"text-align: right;\">0.866808</td><td style=\"text-align: right;\">0.751357</td></tr>\n",
       "<tr><td>DeepLearning_1_AutoML_20200706_134810              </td><td style=\"text-align: right;\">              0.599683</td><td style=\"text-align: right;\"> 2.04393 </td><td style=\"text-align: right;\">0.738257</td><td style=\"text-align: right;\">0.545024</td></tr>\n",
       "<tr><td>GBM_grid__1_AutoML_20200706_134810_model_2         </td><td style=\"text-align: right;\">              0.603977</td><td style=\"text-align: right;\"> 2.15592 </td><td style=\"text-align: right;\">0.873307</td><td style=\"text-align: right;\">0.762665</td></tr>\n",
       "<tr><td>DRF_1_AutoML_20200706_134810                       </td><td style=\"text-align: right;\">              0.639807</td><td style=\"text-align: right;\">15.143   </td><td style=\"text-align: right;\">0.745181</td><td style=\"text-align: right;\">0.555295</td></tr>\n",
       "<tr><td>XRT_1_AutoML_20200706_134810                       </td><td style=\"text-align: right;\">              0.656833</td><td style=\"text-align: right;\">15.5665  </td><td style=\"text-align: right;\">0.749784</td><td style=\"text-align: right;\">0.562176</td></tr>\n",
       "<tr><td>DeepLearning_grid__2_AutoML_20200706_134810_model_1</td><td style=\"text-align: right;\">              0.699588</td><td style=\"text-align: right;\"> 5.62995 </td><td style=\"text-align: right;\">0.820309</td><td style=\"text-align: right;\">0.672906</td></tr>\n",
       "<tr><td>DeepLearning_grid__3_AutoML_20200706_134810_model_1</td><td style=\"text-align: right;\">              0.72652 </td><td style=\"text-align: right;\"> 5.79885 </td><td style=\"text-align: right;\">0.838287</td><td style=\"text-align: right;\">0.702725</td></tr>\n",
       "<tr><td>GLM_1_AutoML_20200706_134810                       </td><td style=\"text-align: right;\">              0.795984</td><td style=\"text-align: right;\"> 2.38546 </td><td style=\"text-align: right;\">0.906853</td><td style=\"text-align: right;\">0.822382</td></tr>\n",
       "</tbody>\n",
       "</table>"
      ]
     },
     "metadata": {},
     "output_type": "display_data"
    },
    {
     "data": {
      "text/plain": []
     },
     "execution_count": 7,
     "metadata": {},
     "output_type": "execute_result"
    }
   ],
   "source": [
    "lb = aml.leaderboard\n",
    "lb.head(rows=lb.nrows)  # Print all rows instead of default (10 rows)"
   ]
  },
  {
   "cell_type": "code",
   "execution_count": null,
   "metadata": {},
   "outputs": [],
   "source": [
    "# Run AutoML for 20 base models (limited to 1 hour max runtime by default)\n",
    "aml = H2OAutoML(max_models=20, seed=1)\n",
    "aml.train(x=x, y=y, training_frame=train)\n",
    "\n",
    "# View the AutoML Leaderboard\n",
    "lb = aml.leaderboard\n",
    "lb.head(rows=lb.nrows)  # Print all rows instead of default (10 rows)\n",
    "\n",
    "# model_id                                                  auc    logloss    mean_per_class_error      rmse       mse\n",
    "# ---------------------------------------------------  --------  ---------  ----------------------  --------  --------\n",
    "# StackedEnsemble_AllModels_AutoML_20181212_105540     0.789801   0.551109                0.333174  0.43211   0.186719\n",
    "# StackedEnsemble_BestOfFamily_AutoML_20181212_105540  0.788425   0.552145                0.323192  0.432625  0.187165\n",
    "# XGBoost_1_AutoML_20181212_105540                     0.784651   0.55753                 0.325471  0.434949  0.189181\n",
    "# XGBoost_grid_1_AutoML_20181212_105540_model_4        0.783523   0.557854                0.318819  0.435249  0.189441\n",
    "# XGBoost_grid_1_AutoML_20181212_105540_model_3        0.783004   0.559613                0.325081  0.435708  0.189841\n",
    "# XGBoost_2_AutoML_20181212_105540                     0.78136    0.55888                 0.347074  0.435907  0.190015\n",
    "# XGBoost_3_AutoML_20181212_105540                     0.780847   0.559589                0.330739  0.43613   0.190209\n",
    "# GBM_5_AutoML_20181212_105540                         0.780837   0.559903                0.340848  0.436191  0.190263\n",
    "# GBM_2_AutoML_20181212_105540                         0.780036   0.559806                0.339926  0.436415  0.190458\n",
    "# GBM_1_AutoML_20181212_105540                         0.779827   0.560857                0.335096  0.436616  0.190633\n",
    "# GBM_3_AutoML_20181212_105540                         0.778669   0.56179                 0.325538  0.437189  0.191134\n",
    "# XGBoost_grid_1_AutoML_20181212_105540_model_2        0.774411   0.575017                0.322811  0.4427    0.195984\n",
    "# GBM_4_AutoML_20181212_105540                         0.771426   0.569712                0.33742   0.44107   0.194543\n",
    "# GBM_grid_1_AutoML_20181212_105540_model_1            0.769752   0.572583                0.344331  0.442452  0.195764\n",
    "# GBM_grid_1_AutoML_20181212_105540_model_2            0.754366   0.918567                0.355855  0.496638  0.246649\n",
    "# DRF_1_AutoML_20181212_105540                         0.742892   0.595883                0.355403  0.452774  0.205004\n",
    "# XRT_1_AutoML_20181212_105540                         0.742091   0.599346                0.356583  0.453117  0.205315\n",
    "# DeepLearning_grid_1_AutoML_20181212_105540_model_2   0.741795   0.601497                0.368291  0.454904  0.206937\n",
    "# XGBoost_grid_1_AutoML_20181212_105540_model_1        0.693554   0.620702                0.40588   0.465791  0.216961\n",
    "# DeepLearning_1_AutoML_20181212_105540                0.69137    0.637954                0.409351  0.47178   0.222576\n",
    "# DeepLearning_grid_1_AutoML_20181212_105540_model_1   0.690084   0.661794                0.418469  0.476635  0.227181\n",
    "# GLM_grid_1_AutoML_20181212_105540_model_1            0.682648   0.63852                 0.397234  0.472683  0.223429\n",
    "#\n",
    "# [22 rows x 6 columns]\n",
    "\n",
    "# The leader model is stored here\n",
    "aml.leader"
   ]
  }
 ],
 "metadata": {
  "kernelspec": {
   "display_name": "Python 3",
   "language": "python",
   "name": "python3"
  },
  "language_info": {
   "codemirror_mode": {
    "name": "ipython",
    "version": 3
   },
   "file_extension": ".py",
   "mimetype": "text/x-python",
   "name": "python",
   "nbconvert_exporter": "python",
   "pygments_lexer": "ipython3",
   "version": "3.8.3"
  }
 },
 "nbformat": 4,
 "nbformat_minor": 4
}
